{
 "metadata": {
  "name": ""
 },
 "nbformat": 3,
 "nbformat_minor": 0,
 "worksheets": [
  {
   "cells": [
    {
     "cell_type": "code",
     "collapsed": false,
     "input": [
      "%pylab inline\n",
      "import matplotlib.pyplot as plt\n",
      "import numpy as np"
     ],
     "language": "python",
     "metadata": {},
     "outputs": [
      {
       "output_type": "stream",
       "stream": "stdout",
       "text": [
        "Populating the interactive namespace from numpy and matplotlib\n"
       ]
      }
     ],
     "prompt_number": 49
    },
    {
     "cell_type": "heading",
     "level": 3,
     "metadata": {},
     "source": [
      "Funciones usadas para las correcciones de deriva:"
     ]
    },
    {
     "cell_type": "code",
     "collapsed": false,
     "input": [
      "def correcting(datos):\n",
      "    Gwrong = datos[:,3]\n",
      "    twrong = datos[:,11]\n",
      "    station = datos[:,1]\n",
      "    hwr = datos[:,2]\n",
      "    \n",
      "    G = []\n",
      "    t = []\n",
      "    h = []\n",
      "    i = 0\n",
      "    \n",
      "    while i<=(len(Gwrong)-1):\n",
      "    #for i in range(len(Gwrong)):\n",
      "        suma = 0\n",
      "        cont = 0\n",
      "        for j in range(i,len(Gwrong)):\n",
      "            if station[i]==station[j]:\n",
      "                cont +=1\n",
      "                suma = suma+Gwrong[j]\n",
      "        if(cont==0):\n",
      "            G.append(Gwrong[i])  \n",
      "        else:    \n",
      "            G.append(suma/cont) \n",
      "            t.append(twrong[i]) \n",
      "            h.append(hwr[i])\n",
      "        \n",
      "        i = i+cont #Como los datos repetidos se encuentran seguidos, no es necesario recorrer todo    \n",
      "    return G,t,h"
     ],
     "language": "python",
     "metadata": {},
     "outputs": [],
     "prompt_number": 56
    },
    {
     "cell_type": "code",
     "collapsed": false,
     "input": [
      "def slope(G,t):\n",
      "    m = (t[len(t)-1]-t[0])/(G[len(G)-1]-G[0])\n",
      "    return m"
     ],
     "language": "python",
     "metadata": {},
     "outputs": [],
     "prompt_number": 57
    },
    {
     "cell_type": "code",
     "collapsed": false,
     "input": [
      "def driftcorrection(G,t,m):\n",
      "    Gdrift = []\n",
      "    for i in range(len(G)-1):\n",
      "        Gdrift.append(G[i]-(m*t[i]))\n",
      "    Gdrift.append(G[0]-(m*t[0]))\n",
      "    return Gdrift"
     ],
     "language": "python",
     "metadata": {},
     "outputs": [],
     "prompt_number": 58
    },
    {
     "cell_type": "code",
     "collapsed": false,
     "input": [
      "def freeair(Gdrift, h):\n",
      "    Gfree = []\n",
      "    for i in range(len(Gdrift)):\n",
      "        #En todos los archivos usados, la altura de la base es la segunda posici\u00f3n de la lista\n",
      "        delta_h = (h[i]-h[1])\n",
      "        Gfree.append(Gdrift+(0.3086*delta_h))\n",
      "    return Gfree"
     ],
     "language": "python",
     "metadata": {},
     "outputs": [],
     "prompt_number": 59
    },
    {
     "cell_type": "heading",
     "level": 3,
     "metadata": {},
     "source": [
      "Correcci\u00f3n de deriva, Grupo E"
     ]
    },
    {
     "cell_type": "code",
     "collapsed": false,
     "input": [
      "G = []\n",
      "t = []\n",
      "h = []\n",
      "datosE = loadtxt('GravimetriaE.txt')\n",
      "G,t,h = correcting(datosE)\n",
      "m = slope(G,t)\n",
      "Gdrift = driftcorrection(G,t,m)\n",
      "plt.plot(t,Gdrift)\n",
      "plt.xlabel(\"t(horas)\")\n",
      "plt.ylabel(\"Gdrift\")"
     ],
     "language": "python",
     "metadata": {},
     "outputs": [
      {
       "metadata": {},
       "output_type": "pyout",
       "prompt_number": 60,
       "text": [
        "<matplotlib.text.Text at 0x7fccd6f21410>"
       ]
      },
      {
       "metadata": {},
       "output_type": "display_data",
       "png": "[encoded data removed]",
       "text": [
        "<matplotlib.figure.Figure at 0x7fccd6d85110>"
       ]
      }
     ],
     "prompt_number": 60
    },
    {
     "cell_type": "markdown",
     "metadata": {},
     "source": [
      "Como este grupo no tomo datos de GPS no es posible realizar las correcciones de Free air y Bouguer"
     ]
    },
    {
     "cell_type": "heading",
     "level": 3,
     "metadata": {},
     "source": [
      "Correcci\u00f3n de deriva, Grupo I"
     ]
    },
    {
     "cell_type": "code",
     "collapsed": false,
     "input": [
      "Gi = []\n",
      "ti = []\n",
      "hi = []\n",
      "datosI = loadtxt('GravimetriaI.txt')\n",
      "Gi,ti,hi = correcting(datosI)\n",
      "mi = slope(Gi,ti)\n",
      "Gdrifti = driftcorrection(Gi,ti,mi)\n",
      "plt.plot(ti,Gdrifti)\n",
      "plt.xlabel(\"t(horas)\")\n",
      "plt.ylabel(\"Gdrift\")"
     ],
     "language": "python",
     "metadata": {},
     "outputs": [
      {
       "metadata": {},
       "output_type": "pyout",
       "prompt_number": 69,
       "text": [
        "<matplotlib.text.Text at 0x7fccd69f2790>"
       ]
      },
      {
       "metadata": {},
       "output_type": "display_data",
       "png": "[encoded data removed]",
       "text": [
        "<matplotlib.figure.Figure at 0x7fccd6a8e550>"
       ]
      }
     ],
     "prompt_number": 69
    },
    {
     "cell_type": "heading",
     "level": 3,
     "metadata": {},
     "source": [
      "Correcci\u00f3n de Free Air, Grupo I"
     ]
    },
    {
     "cell_type": "code",
     "collapsed": false,
     "input": [
      "Gfree = freeair(Gdrifti,hi)\n",
      "print (len(hi))\n",
      "plt.plot(h,Gfree)"
     ],
     "language": "python",
     "metadata": {},
     "outputs": [
      {
       "output_type": "stream",
       "stream": "stdout",
       "text": [
        "25\n"
       ]
      },
      {
       "metadata": {},
       "output_type": "pyout",
       "prompt_number": 71,
       "text": [
        "[<matplotlib.lines.Line2D at 0x7fccd6905810>,\n",
        " <matplotlib.lines.Line2D at 0x7fccd6905a90>,\n",
        " <matplotlib.lines.Line2D at 0x7fccd6905cd0>,\n",
        " <matplotlib.lines.Line2D at 0x7fccd6905e90>,\n",
        " <matplotlib.lines.Line2D at 0x7fccd6912090>,\n",
        " <matplotlib.lines.Line2D at 0x7fccd6912250>,\n",
        " <matplotlib.lines.Line2D at 0x7fccd6912410>,\n",
        " <matplotlib.lines.Line2D at 0x7fccd69a6250>,\n",
        " <matplotlib.lines.Line2D at 0x7fccd6912790>,\n",
        " <matplotlib.lines.Line2D at 0x7fccd6912950>,\n",
        " <matplotlib.lines.Line2D at 0x7fccd6912b10>,\n",
        " <matplotlib.lines.Line2D at 0x7fccd6912cd0>,\n",
        " <matplotlib.lines.Line2D at 0x7fccd6912e90>,\n",
        " <matplotlib.lines.Line2D at 0x7fccd691b090>,\n",
        " <matplotlib.lines.Line2D at 0x7fccd6912610>,\n",
        " <matplotlib.lines.Line2D at 0x7fccd691b410>,\n",
        " <matplotlib.lines.Line2D at 0x7fccd691b5d0>,\n",
        " <matplotlib.lines.Line2D at 0x7fccd691b790>,\n",
        " <matplotlib.lines.Line2D at 0x7fccd691b950>,\n",
        " <matplotlib.lines.Line2D at 0x7fccd691bb10>,\n",
        " <matplotlib.lines.Line2D at 0x7fccd691bcd0>,\n",
        " <matplotlib.lines.Line2D at 0x7fccd691be90>,\n",
        " <matplotlib.lines.Line2D at 0x7fccd6923090>,\n",
        " <matplotlib.lines.Line2D at 0x7fccd6923250>,\n",
        " <matplotlib.lines.Line2D at 0x7fccd6923410>]"
       ]
      },
      {
       "metadata": {},
       "output_type": "display_data",
       "png": "[encoded data removed]",
       "text": [
        "<matplotlib.figure.Figure at 0x7fccd6b4ecd0>"
       ]
      }
     ],
     "prompt_number": 71
    },
    {
     "cell_type": "code",
     "collapsed": false,
     "input": [],
     "language": "python",
     "metadata": {},
     "outputs": []
    }
   ],
   "metadata": {}
  }
 ]
}