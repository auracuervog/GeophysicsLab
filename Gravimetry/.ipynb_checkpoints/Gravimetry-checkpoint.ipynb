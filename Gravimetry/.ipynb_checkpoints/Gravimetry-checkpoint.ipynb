{
 "metadata": {
  "name": ""
 },
 "nbformat": 3,
 "nbformat_minor": 0,
 "worksheets": [
  {
   "cells": [
    {
     "cell_type": "code",
     "collapsed": false,
     "input": [
      "%pylab inline\n",
      "import matplotlib.pyplot as plt\n",
      "import numpy as np"
     ],
     "language": "python",
     "metadata": {},
     "outputs": [
      {
       "output_type": "stream",
       "stream": "stdout",
       "text": [
        "Populating the interactive namespace from numpy and matplotlib\n"
       ]
      }
     ],
     "prompt_number": 1
    },
    {
     "cell_type": "heading",
     "level": 3,
     "metadata": {},
     "source": [
      "Funciones usadas para las correcciones de deriva:"
     ]
    },
    {
     "cell_type": "code",
     "collapsed": false,
     "input": [
      "def correcting(datos):\n",
      "    Gwrong = datos[:,3]\n",
      "    twrong = datos[:,11]\n",
      "    station = datos[:,1]\n",
      "    #hwr = datos[]\n",
      "    G = []\n",
      "    t = []\n",
      "    h = []\n",
      "    i = 0\n",
      "    \n",
      "    while i<=(len(Gwrong)-1):\n",
      "    #for i in range(len(Gwrong)):\n",
      "        suma = 0\n",
      "        cont = 0\n",
      "        for j in range(i,len(Gwrong)):\n",
      "            if station[i]==station[j]:\n",
      "                cont +=1\n",
      "                suma = suma+Gwrong[j]\n",
      "        if(cont==0):\n",
      "            G.append(Gwrong[i])  \n",
      "        else:    \n",
      "            G.append(suma/cont) \n",
      "            t.append(twrong[i]) \n",
      "            #h.append(hwr[i])\n",
      "        \n",
      "        i = i+cont #Como los datos repetidos se encuentran seguidos, no es necesario recorrer todo    \n",
      "    return G,t,h"
     ],
     "language": "python",
     "metadata": {},
     "outputs": [],
     "prompt_number": 11
    },
    {
     "cell_type": "code",
     "collapsed": false,
     "input": [
      "def slope(G,t):\n",
      "    m = (t[len(t)-1]-t[0])/(G[len(G)-1]-G[0])\n",
      "    return m"
     ],
     "language": "python",
     "metadata": {},
     "outputs": [],
     "prompt_number": 27
    },
    {
     "cell_type": "code",
     "collapsed": false,
     "input": [
      "def driftcorrection(G,t,m):\n",
      "    Gdrift = []\n",
      "    for i in range(len(G)-1):\n",
      "        Gdrift.append(G[i]-(m*t[i]))\n",
      "    Gdrift.append(G[0]-(m*t[0]))\n",
      "    return Gdrift"
     ],
     "language": "python",
     "metadata": {},
     "outputs": [],
     "prompt_number": 39
    },
    {
     "cell_type": "heading",
     "level": 3,
     "metadata": {},
     "source": [
      "Correcci\u00f3n de deriva, Grupo E"
     ]
    },
    {
     "cell_type": "code",
     "collapsed": false,
     "input": [
      "G = []\n",
      "t = []\n",
      "h = []\n",
      "datosE = loadtxt('GravimetriaE.txt')\n",
      "G,t,h = correcting(datosE)\n",
      "m = slope(G,t)\n",
      "Gdrift = driftcorrection(G,t,m)\n",
      "plt.plot(t,Gdrift)\n",
      "plt.xlabel(\"t(horas)\")\n",
      "plt.ylabel(\"Gdrift\")"
     ],
     "language": "python",
     "metadata": {},
     "outputs": [
      {
       "metadata": {},
       "output_type": "pyout",
       "prompt_number": 47,
       "text": [
        "<matplotlib.text.Text at 0x7fccd6ea9dd0>"
       ]
      },
      {
       "metadata": {},
       "output_type": "display_data",
       "png": "[encoded data removed]",
       "text": [
        "<matplotlib.figure.Figure at 0x7fccd6e57390>"
       ]
      }
     ],
     "prompt_number": 47
    },
    {
     "cell_type": "code",
     "collapsed": false,
     "input": [],
     "language": "python",
     "metadata": {},
     "outputs": []
    }
   ],
   "metadata": {}
  }
 ]
}